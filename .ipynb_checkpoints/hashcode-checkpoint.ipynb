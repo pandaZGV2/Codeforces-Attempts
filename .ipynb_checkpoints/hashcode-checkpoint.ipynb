{
 "cells": [
  {
   "cell_type": "markdown",
   "metadata": {},
   "source": [
    "### Slide show-\n",
    "2 options:\n",
    "* Horizontal - 1 on each Slide\n",
    "* Vertical - 2 side by side on the same Slide\n",
    "If horizontal, tags of slides is the same as the horizontal photo. If vertical put tags of slides as the union of both photos tags.\n",
    "\n",
    "*You must code a basic checker and validator to ensure your solution is working correctly.*\n",
    "\n",
    "Submit text file of slideshow\n",
    "\n",
    "## Setting up an environment:\n",
    "Spend the first 10-15 mins reading and coming up with a basic solution. Then next 15 mins coming with checker and validator. You can set up as large a machine as you want to solve the problems. Could be benificial to set up a large machine for some problems. Could even help you increase scorer. Scorer takes the question and the text file your code produces and assigns you a score. \n",
    "Utils files store all the functions and stuff you will need. In hashcode you need several random generators. \n",
    "```py\n",
    "def score(filename, solution):\n",
    "```\n",
    "Always requires this function when youre writing code for hashcode.\n",
    "Even required to write an output and submit function to write to a text file. (solution read and write will be required when youre working to optimize the solution later)"
   ]
  },
  {
   "cell_type": "code",
   "execution_count": null,
   "metadata": {},
   "outputs": [],
   "source": [
    "# eda - Exploratory data analysis. Read and understand the data. \n",
    "# jupyter notebook helps separate code. Can code in C as well.\n",
    "import numpy\n",
    "import seaborn\n",
    "import utils\n",
    "import seaborn as sns\n",
    "import matplotlib.pyplot as plt"
   ]
  },
  {
   "cell_type": "code",
   "execution_count": null,
   "metadata": {},
   "outputs": [],
   "source": []
  }
 ],
 "metadata": {
  "kernelspec": {
   "display_name": "Python 3.8.5 64-bit",
   "language": "python",
   "name": "python38564bit6c9babcaa1464203bad42d45732ae2b7"
  },
  "language_info": {
   "codemirror_mode": {
    "name": "ipython",
    "version": 3
   },
   "file_extension": ".py",
   "mimetype": "text/x-python",
   "name": "python",
   "nbconvert_exporter": "python",
   "pygments_lexer": "ipython3",
   "version": "3.8.5"
  }
 },
 "nbformat": 4,
 "nbformat_minor": 2
}
